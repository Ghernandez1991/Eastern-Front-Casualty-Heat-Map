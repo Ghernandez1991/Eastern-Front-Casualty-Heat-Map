{
 "cells": [
  {
   "cell_type": "code",
   "execution_count": 1,
   "metadata": {},
   "outputs": [],
   "source": [
    "import gmaps\n",
    "import pandas as pd\n",
    "\n",
    "# Google developer API key\n",
    "from config import gkey\n",
    "\n",
    "# Configure gmaps\n",
    "gmaps.configure(api_key=gkey)"
   ]
  },
  {
   "cell_type": "code",
   "execution_count": 2,
   "metadata": {},
   "outputs": [
    {
     "data": {
      "text/html": [
       "<div>\n",
       "<style scoped>\n",
       "    .dataframe tbody tr th:only-of-type {\n",
       "        vertical-align: middle;\n",
       "    }\n",
       "\n",
       "    .dataframe tbody tr th {\n",
       "        vertical-align: top;\n",
       "    }\n",
       "\n",
       "    .dataframe thead th {\n",
       "        text-align: right;\n",
       "    }\n",
       "</style>\n",
       "<table border=\"1\" class=\"dataframe\">\n",
       "  <thead>\n",
       "    <tr style=\"text-align: right;\">\n",
       "      <th></th>\n",
       "      <th>City</th>\n",
       "      <th>Year</th>\n",
       "      <th>Country</th>\n",
       "      <th>Casualties</th>\n",
       "      <th>Lat</th>\n",
       "      <th>Long</th>\n",
       "    </tr>\n",
       "  </thead>\n",
       "  <tbody>\n",
       "    <tr>\n",
       "      <th>0</th>\n",
       "      <td>Brest Litovsk</td>\n",
       "      <td>1941</td>\n",
       "      <td>Belarus</td>\n",
       "      <td>2000</td>\n",
       "      <td>52.094109</td>\n",
       "      <td>23.731911</td>\n",
       "    </tr>\n",
       "    <tr>\n",
       "      <th>1</th>\n",
       "      <td>Minsk</td>\n",
       "      <td>1941</td>\n",
       "      <td>Belarus</td>\n",
       "      <td>341073</td>\n",
       "      <td>53.904541</td>\n",
       "      <td>27.561523</td>\n",
       "    </tr>\n",
       "    <tr>\n",
       "      <th>2</th>\n",
       "      <td>Kiev</td>\n",
       "      <td>1941</td>\n",
       "      <td>Ukraine</td>\n",
       "      <td>700544</td>\n",
       "      <td>50.450100</td>\n",
       "      <td>30.523399</td>\n",
       "    </tr>\n",
       "    <tr>\n",
       "      <th>3</th>\n",
       "      <td>Smolensk</td>\n",
       "      <td>1941</td>\n",
       "      <td>Russia</td>\n",
       "      <td>759947</td>\n",
       "      <td>54.777920</td>\n",
       "      <td>32.051571</td>\n",
       "    </tr>\n",
       "    <tr>\n",
       "      <th>4</th>\n",
       "      <td>Viazma</td>\n",
       "      <td>1941</td>\n",
       "      <td>Russia</td>\n",
       "      <td>514617</td>\n",
       "      <td>55.215850</td>\n",
       "      <td>34.304550</td>\n",
       "    </tr>\n",
       "  </tbody>\n",
       "</table>\n",
       "</div>"
      ],
      "text/plain": [
       "            City  Year  Country  Casualties        Lat       Long\n",
       "0  Brest Litovsk  1941  Belarus        2000  52.094109  23.731911\n",
       "1          Minsk  1941  Belarus      341073  53.904541  27.561523\n",
       "2           Kiev  1941  Ukraine      700544  50.450100  30.523399\n",
       "3       Smolensk  1941   Russia      759947  54.777920  32.051571\n",
       "4         Viazma  1941   Russia      514617  55.215850  34.304550"
      ]
     },
     "execution_count": 2,
     "metadata": {},
     "output_type": "execute_result"
    }
   ],
   "source": [
    "east_df = pd.read_csv('east.csv')\n",
    "east_df\n",
    "east_df.head()"
   ]
  },
  {
   "cell_type": "code",
   "execution_count": 3,
   "metadata": {},
   "outputs": [],
   "source": [
    "# Store latitude and longitude in locations\n",
    "locations = east_df[[\"Lat\", \"Long\"]]\n",
    "\n",
    "\n",
    "# Fill NaN values and convert to float\n",
    "rating = east_df[\"Casualties\"].astype(float)"
   ]
  },
  {
   "cell_type": "code",
   "execution_count": 4,
   "metadata": {},
   "outputs": [
    {
     "data": {
      "application/vnd.jupyter.widget-view+json": {
       "model_id": "70654b1c7d1f4b9e86981d879294f846",
       "version_major": 2,
       "version_minor": 0
      },
      "text/plain": [
       "Figure(layout=FigureLayout(height='420px'))"
      ]
     },
     "metadata": {},
     "output_type": "display_data"
    }
   ],
   "source": [
    "# Plot Heatmap\n",
    "fig = gmaps.figure()\n",
    "\n",
    "# Create heat layer\n",
    "heat_layer = gmaps.heatmap_layer(locations, weights=rating, \n",
    "                                 dissipating=False, max_intensity=rating.max(),\n",
    "                                 point_radius=.9, opacity=1)\n",
    "\n",
    "#convert casualties to strings\n",
    "casualties_east = east_df['Casualties'].apply(str)\n",
    "\n",
    "\n",
    "markers = gmaps.marker_layer(locations, \n",
    "                             label=casualties_east)\n",
    "fig.add_layer(markers)\n",
    "fig\n",
    "\n",
    "\n",
    "\n",
    "# Add layer\n",
    "fig.add_layer(heat_layer)\n",
    "\n",
    "# Display figure\n",
    "fig"
   ]
  }
 ],
 "metadata": {
  "kernelspec": {
   "display_name": "Python 3",
   "language": "python",
   "name": "python3"
  },
  "language_info": {
   "codemirror_mode": {
    "name": "ipython",
    "version": 3
   },
   "file_extension": ".py",
   "mimetype": "text/x-python",
   "name": "python",
   "nbconvert_exporter": "python",
   "pygments_lexer": "ipython3",
   "version": "3.6.8"
  }
 },
 "nbformat": 4,
 "nbformat_minor": 2
}
